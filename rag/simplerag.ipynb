{
 "cells": [
  {
   "metadata": {},
   "cell_type": "markdown",
   "source": "# Simple RAG Pipeine",
   "id": "d2a21d1f48f63293"
  },
  {
   "metadata": {},
   "cell_type": "code",
   "outputs": [],
   "execution_count": null,
   "source": [
    "## Data Ingestion\n",
    "from langchain_community.document_loaders import TextLoader\n"
   ],
   "id": "bffcb0e10c9662e1"
  }
 ],
 "metadata": {
  "kernelspec": {
   "display_name": "Python 3",
   "language": "python",
   "name": "python3"
  },
  "language_info": {
   "codemirror_mode": {
    "name": "ipython",
    "version": 2
   },
   "file_extension": ".py",
   "mimetype": "text/x-python",
   "name": "python",
   "nbconvert_exporter": "python",
   "pygments_lexer": "ipython2",
   "version": "2.7.6"
  }
 },
 "nbformat": 4,
 "nbformat_minor": 5
}
