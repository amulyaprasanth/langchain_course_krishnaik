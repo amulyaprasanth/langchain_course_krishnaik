{
 "cells": [
  {
   "metadata": {},
   "cell_type": "markdown",
   "source": "# Huggging Face with langchain with OpenSource Models",
   "id": "98e3f5978e5b8fbf"
  },
  {
   "cell_type": "code",
   "id": "initial_id",
   "metadata": {
    "collapsed": true,
    "ExecuteTime": {
     "end_time": "2024-05-07T18:21:41.566239Z",
     "start_time": "2024-05-07T18:21:41.482415Z"
    }
   },
   "source": [
    "from langchain_community.document_loaders import PyPDFLoader, PyPDFDirectoryLoader\n",
    "from langchain.text_splitter import RecursiveCharacterTextSplitter\n",
    "from langchain_community.vectorstores import FAISS\n",
    "\n",
    "from langchain_community.embeddings import HuggingFaceBgeEmbeddings\n",
    "from langchain.prompts import PromptTemplate\n",
    "\n",
    "from langchain.chains import RetrievalQA\n",
    "\n",
    "from dotenv import load_dotenv\n",
    "\n",
    "load_dotenv()\n",
    "import os\n",
    "HF_TOKEN = os.getenv(\"HUGGINGFACEHUB_API_TOKEN\")\n"
   ],
   "outputs": [],
   "execution_count": 24
  },
  {
   "metadata": {},
   "cell_type": "markdown",
   "source": "## Read the PDFs from the folder",
   "id": "204220835a52f5fe"
  },
  {
   "metadata": {
    "ExecuteTime": {
     "end_time": "2024-05-07T18:05:53.089114Z",
     "start_time": "2024-05-07T18:05:44.783338Z"
    }
   },
   "cell_type": "code",
   "source": [
    "loader = PyPDFDirectoryLoader(\"./us-census\")\n",
    "\n",
    "documents = loader.load()\n",
    "\n",
    "text_splitter = RecursiveCharacterTextSplitter(chunk_size=1000, chunk_overlap=200)\n",
    "\n",
    "final_documents = text_splitter.split_documents(documents)\n",
    "final_documents[0]"
   ],
   "id": "519cb503ec13d962",
   "outputs": [
    {
     "data": {
      "text/plain": [
       "Document(page_content='Health Insurance Coverage Status and Type \\nby Geography: 2021 and 2022\\nAmerican Community Survey Briefs\\nACSBR-015Issued September 2023Douglas Conway and Breauna Branch\\nINTRODUCTION\\nDemographic shifts as well as economic and govern-\\nment policy changes can affect people’s access to health coverage. For example, between 2021 and 2022, the labor market continued to improve, which may have affected private coverage in the United States \\nduring that time.\\n1 Public policy changes included \\nthe renewal of the Public Health Emergency, which \\nallowed Medicaid enrollees to remain covered under the Continuous Enrollment Provision.\\n2 The American \\nRescue Plan (ARP) enhanced Marketplace premium subsidies for those with incomes above 400 percent of the poverty level as well as for unemployed people.\\n3', metadata={'source': 'us-census\\\\acsbr-015.pdf', 'page': 0})"
      ]
     },
     "execution_count": 2,
     "metadata": {},
     "output_type": "execute_result"
    }
   ],
   "execution_count": 2
  },
  {
   "metadata": {
    "ExecuteTime": {
     "end_time": "2024-05-07T18:05:53.104271Z",
     "start_time": "2024-05-07T18:05:53.090165Z"
    }
   },
   "cell_type": "code",
   "source": "print(\"Total number of final documents: \", len(final_documents))",
   "id": "95cd7d15c7fa02d3",
   "outputs": [
    {
     "name": "stdout",
     "output_type": "stream",
     "text": [
      "Total number of final documents:  316\n"
     ]
    }
   ],
   "execution_count": 3
  },
  {
   "metadata": {},
   "cell_type": "markdown",
   "source": "## Embeddings Techniques from HugginFace",
   "id": "50e34d844200f1cf"
  },
  {
   "metadata": {
    "ExecuteTime": {
     "end_time": "2024-05-07T18:06:34.627923Z",
     "start_time": "2024-05-07T18:05:53.105339Z"
    }
   },
   "cell_type": "code",
   "source": [
    "huggingface_embeddings = HuggingFaceBgeEmbeddings(\n",
    "        model_name=\"BAAI/bge-small-en-v1.5\",      #sentence-transformers/all-MiniLM-l6-v2\n",
    "        model_kwargs={'device' : 'cpu'}\n",
    ")"
   ],
   "id": "e94a2b348519ad37",
   "outputs": [
    {
     "data": {
      "text/plain": [
       "modules.json:   0%|          | 0.00/349 [00:00<?, ?B/s]"
      ],
      "application/vnd.jupyter.widget-view+json": {
       "version_major": 2,
       "version_minor": 0,
       "model_id": "0434ef5164eb49bf8db7f525cffff1e4"
      }
     },
     "metadata": {},
     "output_type": "display_data"
    },
    {
     "name": "stderr",
     "output_type": "stream",
     "text": [
      "D:\\Documents\\tutorials\\Langchain Course Krishanik\\venv\\lib\\site-packages\\huggingface_hub\\file_download.py:157: UserWarning: `huggingface_hub` cache-system uses symlinks by default to efficiently store duplicated files but your machine does not support them in C:\\Users\\amuly\\.cache\\huggingface\\hub\\models--BAAI--bge-small-en-v1.5. Caching files will still work but in a degraded version that might require more space on your disk. This warning can be disabled by setting the `HF_HUB_DISABLE_SYMLINKS_WARNING` environment variable. For more details, see https://huggingface.co/docs/huggingface_hub/how-to-cache#limitations.\n",
      "To support symlinks on Windows, you either need to activate Developer Mode or to run Python as an administrator. In order to see activate developer mode, see this article: https://docs.microsoft.com/en-us/windows/apps/get-started/enable-your-device-for-development\n",
      "  warnings.warn(message)\n"
     ]
    },
    {
     "data": {
      "text/plain": [
       "config_sentence_transformers.json:   0%|          | 0.00/124 [00:00<?, ?B/s]"
      ],
      "application/vnd.jupyter.widget-view+json": {
       "version_major": 2,
       "version_minor": 0,
       "model_id": "9305feb293c34c77bf880f1af390f862"
      }
     },
     "metadata": {},
     "output_type": "display_data"
    },
    {
     "data": {
      "text/plain": [
       "README.md:   0%|          | 0.00/94.8k [00:00<?, ?B/s]"
      ],
      "application/vnd.jupyter.widget-view+json": {
       "version_major": 2,
       "version_minor": 0,
       "model_id": "fa8e422bf8224f539099f2d611253f1f"
      }
     },
     "metadata": {},
     "output_type": "display_data"
    },
    {
     "data": {
      "text/plain": [
       "sentence_bert_config.json:   0%|          | 0.00/52.0 [00:00<?, ?B/s]"
      ],
      "application/vnd.jupyter.widget-view+json": {
       "version_major": 2,
       "version_minor": 0,
       "model_id": "a757fe90a0db4d7da73c2d374092e554"
      }
     },
     "metadata": {},
     "output_type": "display_data"
    },
    {
     "name": "stderr",
     "output_type": "stream",
     "text": [
      "D:\\Documents\\tutorials\\Langchain Course Krishanik\\venv\\lib\\site-packages\\huggingface_hub\\file_download.py:1132: FutureWarning: `resume_download` is deprecated and will be removed in version 1.0.0. Downloads always resume when possible. If you want to force a new download, use `force_download=True`.\n",
      "  warnings.warn(\n"
     ]
    },
    {
     "data": {
      "text/plain": [
       "config.json:   0%|          | 0.00/743 [00:00<?, ?B/s]"
      ],
      "application/vnd.jupyter.widget-view+json": {
       "version_major": 2,
       "version_minor": 0,
       "model_id": "aedf6b129d864bd2b5b2dea3a14c4fb2"
      }
     },
     "metadata": {},
     "output_type": "display_data"
    },
    {
     "name": "stderr",
     "output_type": "stream",
     "text": [
      "D:\\Documents\\tutorials\\Langchain Course Krishanik\\venv\\lib\\site-packages\\huggingface_hub\\file_download.py:1132: FutureWarning: `resume_download` is deprecated and will be removed in version 1.0.0. Downloads always resume when possible. If you want to force a new download, use `force_download=True`.\n",
      "  warnings.warn(\n"
     ]
    },
    {
     "data": {
      "text/plain": [
       "model.safetensors:   0%|          | 0.00/133M [00:00<?, ?B/s]"
      ],
      "application/vnd.jupyter.widget-view+json": {
       "version_major": 2,
       "version_minor": 0,
       "model_id": "529ef4f9e85942cbb30469666fd7cb99"
      }
     },
     "metadata": {},
     "output_type": "display_data"
    },
    {
     "data": {
      "text/plain": [
       "tokenizer_config.json:   0%|          | 0.00/366 [00:00<?, ?B/s]"
      ],
      "application/vnd.jupyter.widget-view+json": {
       "version_major": 2,
       "version_minor": 0,
       "model_id": "c2c338393618422cbbbc8461a0edcad2"
      }
     },
     "metadata": {},
     "output_type": "display_data"
    },
    {
     "data": {
      "text/plain": [
       "vocab.txt:   0%|          | 0.00/232k [00:00<?, ?B/s]"
      ],
      "application/vnd.jupyter.widget-view+json": {
       "version_major": 2,
       "version_minor": 0,
       "model_id": "d29cc51d82ad4595ba6c45759b4b640c"
      }
     },
     "metadata": {},
     "output_type": "display_data"
    },
    {
     "data": {
      "text/plain": [
       "tokenizer.json:   0%|          | 0.00/711k [00:00<?, ?B/s]"
      ],
      "application/vnd.jupyter.widget-view+json": {
       "version_major": 2,
       "version_minor": 0,
       "model_id": "21cf4382eba74505b353b6e17b91c597"
      }
     },
     "metadata": {},
     "output_type": "display_data"
    },
    {
     "data": {
      "text/plain": [
       "special_tokens_map.json:   0%|          | 0.00/125 [00:00<?, ?B/s]"
      ],
      "application/vnd.jupyter.widget-view+json": {
       "version_major": 2,
       "version_minor": 0,
       "model_id": "c6e7e690cd9a457ba8059603de4e70c4"
      }
     },
     "metadata": {},
     "output_type": "display_data"
    },
    {
     "data": {
      "text/plain": [
       "1_Pooling/config.json:   0%|          | 0.00/190 [00:00<?, ?B/s]"
      ],
      "application/vnd.jupyter.widget-view+json": {
       "version_major": 2,
       "version_minor": 0,
       "model_id": "ea497f3a74eb4b61a30c4fdfea463534"
      }
     },
     "metadata": {},
     "output_type": "display_data"
    }
   ],
   "execution_count": 4
  },
  {
   "metadata": {
    "ExecuteTime": {
     "end_time": "2024-05-07T18:06:36.216352Z",
     "start_time": "2024-05-07T18:06:34.631954Z"
    }
   },
   "cell_type": "code",
   "source": [
    "import numpy as np\n",
    "\n",
    "embeddings = np.array(huggingface_embeddings.embed_query(final_documents[0].page_content))\n",
    "embeddings"
   ],
   "id": "ef59ecb384ca1e4d",
   "outputs": [
    {
     "data": {
      "text/plain": [
       "array([-8.46568272e-02, -1.19099692e-02, -3.37892324e-02,  2.94558685e-02,\n",
       "        5.19160032e-02,  5.73839732e-02, -4.10018303e-02,  2.74267700e-02,\n",
       "       -1.05128214e-01, -1.58055797e-02,  7.94858411e-02,  5.64318299e-02,\n",
       "       -1.31765343e-02, -3.41544412e-02,  5.81596605e-03,  4.72547710e-02,\n",
       "       -1.30746840e-02,  3.12989787e-03, -3.44225727e-02,  3.08406614e-02,\n",
       "       -4.09086421e-02,  3.52737978e-02, -2.43761782e-02, -4.35830951e-02,\n",
       "        2.41503250e-02,  1.31986942e-02, -4.84450767e-03,  1.92346983e-02,\n",
       "       -5.43912984e-02, -1.42735004e-01,  5.15532214e-03,  2.93115582e-02,\n",
       "       -5.60810305e-02, -8.53529107e-03,  3.14141288e-02,  2.76736263e-02,\n",
       "       -2.06188112e-02,  8.24231654e-02,  4.15425114e-02,  5.79654388e-02,\n",
       "       -3.71587053e-02,  6.26160344e-03, -2.41389666e-02, -5.61805395e-03,\n",
       "       -2.51715202e-02,  5.04971109e-03, -2.52801627e-02, -2.91945296e-03,\n",
       "       -8.24043062e-03, -5.69604039e-02,  2.30822973e-02, -5.54217212e-03,\n",
       "        5.11555262e-02,  6.09937869e-02,  6.49765953e-02, -5.38513586e-02,\n",
       "        2.19109654e-02, -2.54194364e-02, -4.49223593e-02,  4.22459170e-02,\n",
       "        4.75252345e-02,  7.23201782e-04, -2.61084557e-01,  9.30173323e-02,\n",
       "        1.13597736e-02,  4.90668677e-02, -1.06287282e-02, -8.08728952e-03,\n",
       "       -1.53561924e-02, -5.33786416e-02, -6.89967275e-02,  4.75178547e-02,\n",
       "       -5.68595938e-02,  9.38648079e-03,  4.24065515e-02,  2.54346635e-02,\n",
       "        9.67098773e-03,  7.90796243e-03,  2.25161333e-02,  1.91011839e-03,\n",
       "        3.06092110e-02,  2.43991911e-02, -1.34115107e-02, -4.77400832e-02,\n",
       "        4.89939302e-02, -9.49416682e-02,  5.62893525e-02, -4.76260893e-02,\n",
       "        2.81447247e-02, -2.54329219e-02, -3.84950675e-02,  1.00940214e-02,\n",
       "        1.90470251e-04,  3.36625353e-02,  1.00182248e-02,  2.83523891e-02,\n",
       "       -2.68966216e-03, -6.96358178e-03, -3.54915224e-02,  3.42758864e-01,\n",
       "       -1.94496494e-02,  1.43988058e-02, -5.68821281e-03,  1.71480346e-02,\n",
       "       -2.88603990e-03, -5.81653379e-02,  6.35198609e-04,  5.17300004e-03,\n",
       "        2.06331797e-02,  1.65707897e-02,  2.15097442e-02, -2.38795746e-02,\n",
       "        2.89275087e-02,  4.67319377e-02, -3.56104709e-02, -1.05078872e-02,\n",
       "        3.70704755e-02,  1.57502368e-02,  9.43095237e-02, -2.50714887e-02,\n",
       "       -9.55962483e-03,  1.78566165e-02, -9.41775832e-03, -4.57858555e-02,\n",
       "        1.82930753e-02,  5.81431463e-02,  4.94311415e-02,  1.46350726e-01,\n",
       "        2.16057710e-02, -3.92895937e-02,  1.03241242e-01, -3.48299891e-02,\n",
       "       -6.61874376e-03,  7.07987044e-03,  9.26952052e-04,  4.49867267e-03,\n",
       "       -2.89777145e-02,  4.02419046e-02, -5.23191690e-03,  4.59961966e-02,\n",
       "        4.23968630e-03, -4.83794557e-03, -3.23238154e-03, -1.41072899e-01,\n",
       "       -3.76811549e-02,  1.83623865e-01, -2.96608731e-02,  4.90660928e-02,\n",
       "        3.90551798e-02, -1.57757699e-02, -3.86350937e-02,  4.65630591e-02,\n",
       "       -2.43486427e-02,  3.57695967e-02, -3.54946814e-02,  2.36265715e-02,\n",
       "       -3.41952313e-04,  3.11703309e-02, -2.39356067e-02, -5.94757870e-02,\n",
       "        6.06259070e-02, -3.81902382e-02, -7.04255179e-02,  1.42480126e-02,\n",
       "        3.34432088e-02, -3.85254845e-02, -1.71951745e-02, -7.12288767e-02,\n",
       "        2.64976099e-02,  1.09495800e-02,  1.32650649e-02,  3.89528684e-02,\n",
       "        1.60355307e-02, -3.17630656e-02,  1.02013670e-01,  2.92912349e-02,\n",
       "       -2.29205377e-02, -8.38063471e-03, -1.72172170e-02, -6.78820834e-02,\n",
       "        5.39421756e-03, -2.32347269e-02, -6.07407168e-02, -3.86575684e-02,\n",
       "       -1.54306637e-02, -3.84983718e-02, -5.02867699e-02,  5.04234992e-02,\n",
       "        4.94898073e-02, -1.41083049e-02, -2.98147975e-03,  9.77153759e-05,\n",
       "       -6.59189522e-02,  3.01006176e-02, -5.46572614e-04, -1.64787751e-02,\n",
       "       -5.21614701e-02, -3.30225052e-03,  4.75748926e-02, -3.40808183e-02,\n",
       "       -2.98659857e-02,  2.75014769e-02,  5.90198068e-03, -2.64041708e-03,\n",
       "       -1.61242336e-02,  2.05222461e-02,  1.21105118e-02, -5.49781658e-02,\n",
       "        5.10389470e-02, -7.92088546e-03,  7.25209853e-03,  3.51750888e-02,\n",
       "        3.66277173e-02,  5.67756710e-04,  2.60788258e-02,  2.50971280e-02,\n",
       "        1.14480639e-02, -2.54924633e-02,  1.96417496e-02,  2.84220222e-02,\n",
       "        2.82554142e-02,  6.57489672e-02,  9.26554278e-02, -2.68629611e-01,\n",
       "       -8.90538911e-04,  3.16912564e-03,  5.08354139e-03, -6.42101318e-02,\n",
       "       -4.56614792e-02, -4.62259650e-02,  3.60924713e-02,  8.29053391e-03,\n",
       "        8.92349109e-02,  5.68022579e-02,  6.91066822e-03, -1.08683938e-02,\n",
       "        9.36060846e-02,  1.03680296e-02, -8.60930085e-02,  1.77332610e-02,\n",
       "       -2.00802647e-02, -1.85124464e-02,  5.62375702e-04, -9.38336924e-03,\n",
       "        7.76065048e-03, -5.37273325e-02, -2.30028089e-02,  7.48890191e-02,\n",
       "       -1.29693514e-02,  6.53717220e-02, -4.24983092e-02, -7.10293651e-02,\n",
       "       -1.56803653e-02, -6.23028465e-02,  5.36034293e-02, -6.53210049e-03,\n",
       "       -1.15985520e-01,  6.70967922e-02,  1.93367768e-02, -6.67827725e-02,\n",
       "       -2.01763026e-03, -6.27636984e-02, -2.95004696e-02, -2.71986164e-02,\n",
       "        4.49796654e-02, -6.61587492e-02,  2.13751066e-02, -2.94077955e-02,\n",
       "       -5.71503304e-02,  4.05282378e-02,  7.11039230e-02, -6.80164769e-02,\n",
       "        2.11908873e-02,  1.30514977e-02, -2.91152745e-02, -2.25581788e-02,\n",
       "       -1.60189122e-02,  3.20554934e-02, -5.89460172e-02, -2.97132134e-02,\n",
       "        3.42682153e-02, -1.58375893e-02, -9.31770355e-03,  3.59834395e-02,\n",
       "        3.65340128e-03,  4.73319814e-02, -1.06234876e-02, -8.69730208e-03,\n",
       "       -4.38009910e-02,  5.94553817e-03, -2.41493434e-02, -7.79940560e-02,\n",
       "        1.46542992e-02,  1.05613898e-02,  5.45365363e-02, -3.17897871e-02,\n",
       "       -1.26762986e-02,  7.92555138e-03, -1.38132777e-02,  5.01396768e-02,\n",
       "       -7.28576770e-03, -5.23703126e-03, -5.32641113e-02,  4.78208959e-02,\n",
       "       -5.38353585e-02,  1.11436713e-02,  3.96673717e-02, -1.93496328e-02,\n",
       "        9.94821917e-03, -3.53475730e-03,  3.58563336e-03, -9.61507764e-03,\n",
       "        2.15323288e-02, -1.82350483e-02, -2.15189401e-02, -1.38836261e-02,\n",
       "       -1.76699013e-02,  3.37958074e-04, -3.84839397e-04, -2.25800499e-01,\n",
       "        4.51242998e-02,  1.53376581e-02, -1.76967364e-02, -1.42525928e-02,\n",
       "       -7.00281095e-03, -3.13724726e-02,  2.13676039e-03, -9.28350445e-03,\n",
       "       -1.66986808e-02,  4.66264188e-02,  7.71810114e-02,  1.26697004e-01,\n",
       "       -1.83595661e-02, -1.39636565e-02, -1.23300822e-03,  5.93338571e-02,\n",
       "       -1.37457252e-03,  1.98233165e-02, -2.92636380e-02,  4.96656522e-02,\n",
       "       -6.07207231e-02,  1.53544754e-01, -4.67309169e-02,  1.97028760e-02,\n",
       "       -7.67833441e-02, -7.73228286e-03,  3.71618681e-02, -3.00591365e-02,\n",
       "        8.30262527e-03,  2.06258465e-02,  1.97467394e-03,  3.39764468e-02,\n",
       "       -1.70869138e-02,  4.84796129e-02,  1.20782098e-02,  1.24999685e-02,\n",
       "        5.61724268e-02,  9.88543592e-03,  2.13879067e-02, -4.25293557e-02,\n",
       "       -1.94037315e-02,  2.47838292e-02,  1.37260258e-02,  6.41119033e-02,\n",
       "       -2.84481514e-02, -4.64116782e-02, -5.36256023e-02, -6.95406125e-05,\n",
       "        6.45710081e-02, -4.31993016e-04, -1.32471099e-02,  5.85143594e-03,\n",
       "        1.48595991e-02, -5.41847758e-02, -2.02038791e-02, -5.98262474e-02,\n",
       "        3.67029384e-02,  1.43319345e-03, -8.64466745e-03,  2.90671084e-02,\n",
       "        4.38365042e-02, -7.64942691e-02,  1.55718038e-02,  6.65830970e-02])"
      ]
     },
     "execution_count": 5,
     "metadata": {},
     "output_type": "execute_result"
    }
   ],
   "execution_count": 5
  },
  {
   "metadata": {
    "ExecuteTime": {
     "end_time": "2024-05-07T18:06:36.222582Z",
     "start_time": "2024-05-07T18:06:36.217503Z"
    }
   },
   "cell_type": "code",
   "source": [
    "# View the shape of the embeddings array\n",
    "print(f\"Shape of the Embeddings array: {embeddings.shape}\")"
   ],
   "id": "8a0331648a384729",
   "outputs": [
    {
     "name": "stdout",
     "output_type": "stream",
     "text": [
      "Shape of the Embeddings array: (384,)\n"
     ]
    }
   ],
   "execution_count": 6
  },
  {
   "metadata": {},
   "cell_type": "markdown",
   "source": "## Vector Store Creation",
   "id": "e0a2d5cea9f2d99d"
  },
  {
   "metadata": {
    "ExecuteTime": {
     "end_time": "2024-05-07T18:07:14.470166Z",
     "start_time": "2024-05-07T18:06:36.223716Z"
    }
   },
   "cell_type": "code",
   "source": [
    "## Vector Store Creation\n",
    "vectorstore = FAISS.from_documents(final_documents[:120], huggingface_embeddings)"
   ],
   "id": "129942bb47c59ad9",
   "outputs": [],
   "execution_count": 7
  },
  {
   "metadata": {
    "ExecuteTime": {
     "end_time": "2024-05-07T18:07:14.615711Z",
     "start_time": "2024-05-07T18:07:14.472446Z"
    }
   },
   "cell_type": "code",
   "source": [
    "# Query using Similarity Search\n",
    "query = \"WHAT IS HEALTH INSURANCE COVERAGE?\"\n",
    "relevant_documents = vectorstore.similarity_search(query)\n",
    "\n",
    "print(relevant_documents[0].page_content)"
   ],
   "id": "c89954d60257d417",
   "outputs": [
    {
     "name": "stdout",
     "output_type": "stream",
     "text": [
      "2 U.S. Census Bureau\n",
      "WHAT IS HEALTH INSURANCE COVERAGE?\n",
      "This brief presents state-level estimates of health insurance coverage \n",
      "using data from the American Community Survey (ACS). The  \n",
      "U.S. Census Bureau conducts the ACS throughout the year; the \n",
      "survey asks respondents to report their coverage at the time of \n",
      "interview. The resulting measure of health insurance coverage, \n",
      "therefore, reflects an annual average of current comprehensive \n",
      "health insurance coverage status.* This uninsured rate measures a \n",
      "different concept than the measure based on the Current Population \n",
      "Survey Annual Social and Economic Supplement (CPS ASEC). \n",
      "For reporting purposes, the ACS broadly classifies health insurance \n",
      "coverage as private insurance or public insurance. The ACS defines \n",
      "private health insurance as a plan provided through an employer \n",
      "or a union, coverage purchased directly by an individual from an \n",
      "insurance company or through an exchange (such as healthcare.\n"
     ]
    }
   ],
   "execution_count": 8
  },
  {
   "metadata": {},
   "cell_type": "markdown",
   "source": "## create Retriever ",
   "id": "4339e46f3007f552"
  },
  {
   "metadata": {
    "ExecuteTime": {
     "end_time": "2024-05-07T18:22:16.468728Z",
     "start_time": "2024-05-07T18:22:16.461073Z"
    }
   },
   "cell_type": "code",
   "source": [
    "retriever = vectorstore.as_retriever(search_type=\"similarity\", search_kwargs={\"k\" : 3})\n",
    "print(retriever)"
   ],
   "id": "9274a53525ba01d",
   "outputs": [
    {
     "name": "stdout",
     "output_type": "stream",
     "text": [
      "tags=['FAISS', 'HuggingFaceBgeEmbeddings'] vectorstore=<langchain_community.vectorstores.faiss.FAISS object at 0x00000248078AF370> search_kwargs={'k': 3}\n"
     ]
    }
   ],
   "execution_count": 25
  },
  {
   "metadata": {},
   "cell_type": "markdown",
   "source": "",
   "id": "d8704413d7d19c94"
  },
  {
   "metadata": {},
   "cell_type": "markdown",
   "source": "## Create the model",
   "id": "7068625cb58d0958"
  },
  {
   "metadata": {
    "ExecuteTime": {
     "end_time": "2024-05-07T18:17:28.438867Z",
     "start_time": "2024-05-07T18:17:19.766296Z"
    }
   },
   "cell_type": "code",
   "source": [
    "from langchain_community.llms import HuggingFaceEndpoint\n",
    "hf=HuggingFaceEndpoint(\n",
    "    repo_id=\"mistralai/Mistral-7B-Instruct-v0.2\",\n",
    "    temperature=0.5,\n",
    "    token=HF_TOKEN\n",
    "\n",
    ")\n",
    "query=\"What is the health insurance coverage?\"\n",
    "hf.invoke(query)"
   ],
   "id": "a3358cf20580b99a",
   "outputs": [
    {
     "name": "stderr",
     "output_type": "stream",
     "text": [
      "WARNING! token is not default parameter.\n",
      "                    token was transferred to model_kwargs.\n",
      "                    Please make sure that token is what you intended.\n"
     ]
    },
    {
     "name": "stdout",
     "output_type": "stream",
     "text": [
      "The token has not been saved to the git credentials helper. Pass `add_to_git_credential=True` in this function directly or `--add-to-git-credential` if using via `huggingface-cli` if you want to set the git credential as well.\n",
      "Token is valid (permission: read).\n",
      "Your token has been saved to C:\\Users\\amuly\\.cache\\huggingface\\token\n",
      "Login successful\n"
     ]
    },
    {
     "data": {
      "text/plain": [
       "\"\\n\\nThe health insurance coverage is a benefit provided by the employer to the employees. It covers the medical expenses incurred by the employees and their dependents. The coverage includes hospitalization, surgery, consultation fees, and other medical expenses.\\n\\nWhat is the difference between individual and group health insurance?\\n\\nIndividual health insurance is a policy purchased by an individual for themselves, while group health insurance is a policy purchased by an employer for their employees. The premiums for group health insurance are generally lower than individual health insurance due to the larger pool of insured individuals.\\n\\nWhat is the difference between an HMO and a PPO?\\n\\nAn HMO (Health Maintenance Organization) is a type of health insurance plan that requires the insured to use doctors and hospitals within the HMO network for most services. A PPO (Preferred Provider Organization) is a type of health insurance plan that allows the insured to use doctors and hospitals outside of the network, but with higher out-of-pocket costs.\\n\\nWhat is the difference between a deductible and a copayment?\\n\\nA deductible is the amount of money an insured person must pay out of pocket for medical expenses before the insurance coverage kicks in. A copayment is a fixed amount of money paid by the insured person for each medical service, such as a doctor's visit or prescription medication.\\n\\nWhat is the difference between a flexible spending account (FSA) and a health savings account (HSA)?\\n\\nA flexible spending account (FSA) is an employer-sponsored benefit that allows employees to set aside pre-tax dollars to pay for out-of-pocket medical and dependent care expenses. An health savings account (HSA) is a tax-advantaged savings account that can be used to pay for qualified medical expenses. HSAs are typically associated with high-deductible health plans.\\n\\nWhat is the difference between a health reimbursement arrangement (HRA) and a health savings account (HSA)?\\n\\nA health reimbursement arrangement (HRA) is an employer-funded benefit that reimburses employees for out-of-pocket medical expenses, up to a certain amount. An health savings account (HSA) is a tax-advantaged savings account that can be used to pay for qualified medical expenses. The main difference is that HRAs are employer-\""
      ]
     },
     "execution_count": 21,
     "metadata": {},
     "output_type": "execute_result"
    }
   ],
   "execution_count": 21
  },
  {
   "metadata": {},
   "cell_type": "markdown",
   "source": "Hugging Face models can be run locally through the HuggingFacePipeline class\n",
   "id": "e98fec7d926efc89"
  },
  {
   "metadata": {
    "ExecuteTime": {
     "end_time": "2024-05-07T18:14:03.640530Z",
     "start_time": "2024-05-07T18:14:03.631520Z"
    }
   },
   "cell_type": "code",
   "source": [
    "# from langchain_community.llms.huggingface_pipeline import HuggingFacePipeline\n",
    "# \n",
    "# hf = HuggingFacePipeline.from_model_id(\n",
    "#         model_id = \"mistralai/Mistral-7B-v0.1\",\n",
    "#         task=\"text-generation\",\n",
    "#         pipeline_kwargs={'temperature' : 0, \"max_new_tokens\": 300}\n",
    "# )\n",
    "# \n",
    "# # Testing the model\n",
    "# query=\"What is the health insurance coverage?\"\n",
    "# hf.invoke(query)"
   ],
   "id": "56ba03f08b58e98f",
   "outputs": [],
   "execution_count": 17
  },
  {
   "metadata": {
    "ExecuteTime": {
     "end_time": "2024-05-07T18:20:31.028089Z",
     "start_time": "2024-05-07T18:20:31.022319Z"
    }
   },
   "cell_type": "code",
   "source": [
    "prompt_template = \"\"\"\n",
    "Use the following piece of context to answer the question asked. Please try to provide the answer only based on the context\n",
    "\n",
    "{context}\n",
    "Question: {question}\n",
    "\n",
    "Helpful Answers:\n",
    "\"\"\""
   ],
   "id": "2d26710a63835b77",
   "outputs": [],
   "execution_count": 22
  },
  {
   "metadata": {
    "ExecuteTime": {
     "end_time": "2024-05-07T18:21:02.573669Z",
     "start_time": "2024-05-07T18:21:02.568447Z"
    }
   },
   "cell_type": "code",
   "source": "prompt = PromptTemplate(template=prompt_template, input_variables=[\"context\", \"question\"])",
   "id": "11e1a090e9202c8a",
   "outputs": [],
   "execution_count": 23
  },
  {
   "metadata": {
    "ExecuteTime": {
     "end_time": "2024-05-07T18:22:21.292368Z",
     "start_time": "2024-05-07T18:22:21.270374Z"
    }
   },
   "cell_type": "code",
   "source": [
    "retrievalQA=RetrievalQA.from_chain_type(\n",
    "    llm=hf,\n",
    "    chain_type=\"stuff\",\n",
    "    retriever=retriever,\n",
    "    return_source_documents=True,\n",
    "    chain_type_kwargs={\"prompt\":prompt}\n",
    ")"
   ],
   "id": "b1cb075f690ba3ec",
   "outputs": [],
   "execution_count": 26
  },
  {
   "metadata": {
    "ExecuteTime": {
     "end_time": "2024-05-07T18:22:56.764250Z",
     "start_time": "2024-05-07T18:22:56.757456Z"
    }
   },
   "cell_type": "code",
   "source": [
    "query= \"\"\"DIFFERENCES IN THE\n",
    "UNINSURED RATE BY STATE\n",
    "IN 2022\"\"\""
   ],
   "id": "6d2a4e72b27d3e8f",
   "outputs": [],
   "execution_count": 29
  },
  {
   "metadata": {
    "ExecuteTime": {
     "end_time": "2024-05-07T18:23:03.691716Z",
     "start_time": "2024-05-07T18:22:57.695725Z"
    }
   },
   "cell_type": "code",
   "source": [
    "# Call the QA chain with our query.\n",
    "result = retrievalQA.invoke({\"query\": query})\n",
    "print(result['result'])"
   ],
   "id": "2a11479135866f3e",
   "outputs": [
    {
     "name": "stdout",
     "output_type": "stream",
     "text": [
      "\n",
      "1. In 2022, the uninsured rate ranged from a low of 2.4% in Massachusetts to a high of 16.6% in Texas, with a national rate of 8.0%.\n",
      "2. Ten of the 15 states with the highest uninsured rates had rates above the national average.\n",
      "3. Medicaid coverage accounted for a larger percentage of the population in states that expanded Medicaid eligibility compared to nonexpansion states (22.7% vs. 18.0%).\n",
      "4. Uninsured rates decreased in 27 states from 2021 to 2022, while only Maine had an increase.\n",
      "5. The private coverage rates were not statistically different in North Dakota and Utah in 2022.\n",
      "\n",
      "Explanation:\n",
      "\n",
      "The context discusses the differences in the uninsured rate by state in 2022, with a focus on private coverage rates and Medicaid coverage. It also mentions changes in the uninsured rate from 2021 to 2022. The text provides data on the percentage of uninsured people in various states and metropolitan areas, as well as a comparison of ACS and CPS ASEC measures of health insurance coverage.\n",
      "\n",
      "The uninsured rate ranged from a low of 2.4% in Massachusetts to a high of 16.6% in Texas, with a national rate of 8.0%. Ten of the 15 states with the highest uninsured rates had rates above the national average. Medicaid coverage accounted for a larger percentage of the population in states that expanded Medicaid eligibility compared to nonexpansion states (22.7% vs. 18.0%). Uninsured rates decreased in 27 states from 2021 to 2022, while only Maine had an increase. The private coverage rates were not statistically different in North Dakota and Utah in 2022.\n"
     ]
    }
   ],
   "execution_count": 30
  },
  {
   "metadata": {},
   "cell_type": "code",
   "outputs": [],
   "execution_count": null,
   "source": "",
   "id": "6fb3d798e634e7ba"
  }
 ],
 "metadata": {
  "kernelspec": {
   "display_name": "Python 3",
   "language": "python",
   "name": "python3"
  },
  "language_info": {
   "codemirror_mode": {
    "name": "ipython",
    "version": 2
   },
   "file_extension": ".py",
   "mimetype": "text/x-python",
   "name": "python",
   "nbconvert_exporter": "python",
   "pygments_lexer": "ipython2",
   "version": "2.7.6"
  }
 },
 "nbformat": 4,
 "nbformat_minor": 5
}
