{
 "cells": [
  {
   "metadata": {},
   "cell_type": "markdown",
   "source": "# Huggging Face with langchain with OpenSource Models",
   "id": "98e3f5978e5b8fbf"
  },
  {
   "cell_type": "code",
   "id": "initial_id",
   "metadata": {
    "collapsed": true,
    "ExecuteTime": {
     "end_time": "2024-05-07T06:26:12.906689Z",
     "start_time": "2024-05-07T06:26:12.900669Z"
    }
   },
   "source": [
    "from langchain_community.document_loaders import PyPDFLoader, PyPDFDirectoryLoader\n",
    "from langchain.text_splitter import RecursiveCharacterTextSplitter\n",
    "from langchain_community.vectorstores import FAISS\n",
    "\n",
    "from langchain_community.embeddings import HuggingFaceBgeEmbeddings\n",
    "from langchain.prompts import PromptTemplate\n",
    "\n",
    "from langchain.chains import retrieval_qa\n",
    "\n",
    "from dotenv import load_dotenv\n",
    "\n",
    "load_dotenv()\n",
    "import os\n",
    "os.environ['HUGGINGFACEHUB_API_TOKEN'] = os.getenv(\"HUGGINGFACEHUB_API_TOKEN\")\n"
   ],
   "outputs": [],
   "execution_count": 6
  },
  {
   "metadata": {},
   "cell_type": "markdown",
   "source": "## Read the PDFs from the folder",
   "id": "204220835a52f5fe"
  },
  {
   "metadata": {
    "ExecuteTime": {
     "end_time": "2024-05-07T06:11:05.124438Z",
     "start_time": "2024-05-07T06:11:02.353821Z"
    }
   },
   "cell_type": "code",
   "source": [
    "loader = PyPDFDirectoryLoader(\"./us-census\")\n",
    "\n",
    "documents = loader.load()\n",
    "\n",
    "text_splitter = RecursiveCharacterTextSplitter(chunk_size=1000, chunk_overlap=200)\n",
    "\n",
    "final_documents = text_splitter.split_documents(documents)\n",
    "final_documents[0]"
   ],
   "id": "519cb503ec13d962",
   "outputs": [
    {
     "data": {
      "text/plain": [
       "Document(page_content='Poverty in States and Metropolitan  \\nAreas: 2022\\nAmerican Community Survey Briefs\\nDecember 2023ACSBR-016By Craig Benson\\nINTRODUCTION\\nPlanners, policymakers, and community stakeholders \\nuse poverty estimates as key indicators to evaluate trends and current economic conditions within com-munities and to make comparisons across demo-graphic groups. Federal and state governments often \\nuse these estimates to allocate funds to local com-\\nmunities. Government agencies, researchers, and local organizations regularly use these estimates to identify the number of individuals and families eligible for vari-ous programs and to measure economic well-being.\\nThis brief uses the 2021 and 2022 American \\nCommunity Survey (ACS) 1-year estimates and the \\n2021 and 2022 Puerto Rico Community Surveys', metadata={'source': 'us-census/acsbr-016.pdf', 'page': 0})"
      ]
     },
     "execution_count": 2,
     "metadata": {},
     "output_type": "execute_result"
    }
   ],
   "execution_count": 2
  },
  {
   "metadata": {
    "ExecuteTime": {
     "end_time": "2024-05-07T06:11:44.471984Z",
     "start_time": "2024-05-07T06:11:44.469587Z"
    }
   },
   "cell_type": "code",
   "source": "print(\"Total number of final documents: \", len(final_documents))",
   "id": "95cd7d15c7fa02d3",
   "outputs": [
    {
     "name": "stdout",
     "output_type": "stream",
     "text": [
      "Total number of final documents:  316\n"
     ]
    }
   ],
   "execution_count": 3
  },
  {
   "metadata": {},
   "cell_type": "markdown",
   "source": "## Embeddings Techniques from HugginFace",
   "id": "50e34d844200f1cf"
  },
  {
   "metadata": {
    "ExecuteTime": {
     "end_time": "2024-05-07T06:33:12.567281Z",
     "start_time": "2024-05-07T06:32:28.755172Z"
    }
   },
   "cell_type": "code",
   "source": [
    "huggingface_embeddings = HuggingFaceBgeEmbeddings(\n",
    "        model_name=\"BAAI/bge-small-en-v1.5\",      #sentence-transformers/all-MiniLM-l6-v2\n",
    "        model_kwargs={'device' : 'cpu'}\n",
    ")"
   ],
   "id": "e94a2b348519ad37",
   "outputs": [
    {
     "name": "stderr",
     "output_type": "stream",
     "text": [
      "The cache for model files in Transformers v4.22.0 has been updated. Migrating your old cache. This is a one-time only operation. You can interrupt this and resume the migration later on by calling `transformers.utils.move_cache()`.\n"
     ]
    },
    {
     "data": {
      "text/plain": [
       "0it [00:00, ?it/s]"
      ],
      "application/vnd.jupyter.widget-view+json": {
       "version_major": 2,
       "version_minor": 0,
       "model_id": "bf9a99f34b3a41938906c54e4508c670"
      }
     },
     "metadata": {},
     "output_type": "display_data"
    },
    {
     "data": {
      "text/plain": [
       "modules.json:   0%|          | 0.00/349 [00:00<?, ?B/s]"
      ],
      "application/vnd.jupyter.widget-view+json": {
       "version_major": 2,
       "version_minor": 0,
       "model_id": "164543752ac749419d5ae97a57c002ef"
      }
     },
     "metadata": {},
     "output_type": "display_data"
    },
    {
     "data": {
      "text/plain": [
       "config_sentence_transformers.json:   0%|          | 0.00/124 [00:00<?, ?B/s]"
      ],
      "application/vnd.jupyter.widget-view+json": {
       "version_major": 2,
       "version_minor": 0,
       "model_id": "77c2c9e362a8484dbc09c353952ac87d"
      }
     },
     "metadata": {},
     "output_type": "display_data"
    },
    {
     "data": {
      "text/plain": [
       "README.md:   0%|          | 0.00/94.8k [00:00<?, ?B/s]"
      ],
      "application/vnd.jupyter.widget-view+json": {
       "version_major": 2,
       "version_minor": 0,
       "model_id": "982b5f68362b4a31ba6eb237a0572729"
      }
     },
     "metadata": {},
     "output_type": "display_data"
    },
    {
     "data": {
      "text/plain": [
       "sentence_bert_config.json:   0%|          | 0.00/52.0 [00:00<?, ?B/s]"
      ],
      "application/vnd.jupyter.widget-view+json": {
       "version_major": 2,
       "version_minor": 0,
       "model_id": "97da0168127e4bbf959752a899cc8f84"
      }
     },
     "metadata": {},
     "output_type": "display_data"
    },
    {
     "data": {
      "text/plain": [
       "config.json:   0%|          | 0.00/743 [00:00<?, ?B/s]"
      ],
      "application/vnd.jupyter.widget-view+json": {
       "version_major": 2,
       "version_minor": 0,
       "model_id": "08f9bbc95290404eb9ec9f489640d51e"
      }
     },
     "metadata": {},
     "output_type": "display_data"
    },
    {
     "data": {
      "text/plain": [
       "model.safetensors:   0%|          | 0.00/133M [00:00<?, ?B/s]"
      ],
      "application/vnd.jupyter.widget-view+json": {
       "version_major": 2,
       "version_minor": 0,
       "model_id": "04861098f35c4cb187f50dc5f6906307"
      }
     },
     "metadata": {},
     "output_type": "display_data"
    },
    {
     "data": {
      "text/plain": [
       "tokenizer_config.json:   0%|          | 0.00/366 [00:00<?, ?B/s]"
      ],
      "application/vnd.jupyter.widget-view+json": {
       "version_major": 2,
       "version_minor": 0,
       "model_id": "d63d0c7ac876437aaa12d1ad346d8ef5"
      }
     },
     "metadata": {},
     "output_type": "display_data"
    },
    {
     "data": {
      "text/plain": [
       "vocab.txt:   0%|          | 0.00/232k [00:00<?, ?B/s]"
      ],
      "application/vnd.jupyter.widget-view+json": {
       "version_major": 2,
       "version_minor": 0,
       "model_id": "ab42df1302bc49ab8e87db15fa071cf6"
      }
     },
     "metadata": {},
     "output_type": "display_data"
    },
    {
     "data": {
      "text/plain": [
       "tokenizer.json:   0%|          | 0.00/711k [00:00<?, ?B/s]"
      ],
      "application/vnd.jupyter.widget-view+json": {
       "version_major": 2,
       "version_minor": 0,
       "model_id": "75a30bfe21bc422e9e690b3864368364"
      }
     },
     "metadata": {},
     "output_type": "display_data"
    },
    {
     "data": {
      "text/plain": [
       "special_tokens_map.json:   0%|          | 0.00/125 [00:00<?, ?B/s]"
      ],
      "application/vnd.jupyter.widget-view+json": {
       "version_major": 2,
       "version_minor": 0,
       "model_id": "689c5cd6d7a7408f876fcf4e1169afb3"
      }
     },
     "metadata": {},
     "output_type": "display_data"
    },
    {
     "data": {
      "text/plain": [
       "1_Pooling/config.json:   0%|          | 0.00/190 [00:00<?, ?B/s]"
      ],
      "application/vnd.jupyter.widget-view+json": {
       "version_major": 2,
       "version_minor": 0,
       "model_id": "6f844e0afb074898b799458d0aa0b5f9"
      }
     },
     "metadata": {},
     "output_type": "display_data"
    }
   ],
   "execution_count": 9
  },
  {
   "metadata": {
    "ExecuteTime": {
     "end_time": "2024-05-07T06:34:38.197306Z",
     "start_time": "2024-05-07T06:34:38.116283Z"
    }
   },
   "cell_type": "code",
   "source": [
    "import numpy as np\n",
    "\n",
    "embeddings = np.array(huggingface_embeddings.embed_query(final_documents[0].page_content))\n",
    "embeddings"
   ],
   "id": "ef59ecb384ca1e4d",
   "outputs": [
    {
     "data": {
      "text/plain": [
       "array([-1.00630093e-02, -3.98545079e-02, -2.14797799e-02,  5.86761162e-02,\n",
       "        8.02909508e-02,  5.45422174e-02, -1.89204793e-02, -3.84315941e-03,\n",
       "       -5.06585911e-02, -9.22430120e-03,  5.20436689e-02,  2.59992275e-02,\n",
       "       -1.59694161e-02, -1.32009741e-02, -3.79712917e-02, -2.48674769e-02,\n",
       "       -4.57807072e-02,  5.27276956e-02,  2.56091282e-02,  1.23642311e-02,\n",
       "        5.47024049e-02, -9.55425110e-03, -7.26953521e-02, -1.91431195e-02,\n",
       "        5.93195856e-02, -3.60356383e-02, -1.51843517e-04, -5.13967797e-02,\n",
       "       -4.05045189e-02, -1.59561887e-01,  6.18914468e-03,  2.72260350e-03,\n",
       "        4.80102375e-02, -6.29634736e-03, -3.37924645e-03, -4.26316299e-02,\n",
       "        3.80311012e-02,  5.58205582e-02,  8.53930600e-03,  5.33878915e-02,\n",
       "       -4.03700193e-04, -2.85844021e-02, -1.75249502e-02, -3.33271138e-02,\n",
       "       -6.52636811e-02, -6.25040308e-02, -1.69884115e-02, -3.36707011e-03,\n",
       "       -5.80814369e-02, -1.87588464e-02,  3.09326369e-02, -1.79333128e-02,\n",
       "        1.11762658e-02,  4.28264476e-02,  4.17709611e-02,  2.02438720e-02,\n",
       "        9.16244183e-03, -3.49306874e-02, -2.00626459e-02,  4.42197174e-02,\n",
       "        3.16112116e-02,  9.09476634e-03, -2.67247915e-01,  4.63151038e-02,\n",
       "        3.19891311e-02,  9.42401215e-03,  1.66227743e-02, -2.71087904e-02,\n",
       "       -3.63866165e-02, -4.81888913e-02,  5.23807947e-03, -1.47413872e-02,\n",
       "        1.43898902e-02,  7.97559917e-02,  1.50766401e-02, -3.73384394e-02,\n",
       "        3.52885351e-02,  2.54594814e-03, -2.19097957e-02,  2.70608417e-03,\n",
       "        2.58722175e-02,  4.77114692e-02,  1.06454520e-02, -1.58604272e-02,\n",
       "       -6.43942598e-03, -3.39419395e-02,  2.13870555e-02,  1.23199737e-02,\n",
       "        6.48126975e-02, -3.37077118e-02, -1.74965914e-02, -4.90861014e-02,\n",
       "        3.62624340e-02,  1.14420848e-03, -1.27171334e-02,  3.88980517e-03,\n",
       "        4.30217907e-02, -5.57226455e-03, -6.59407452e-02,  4.23406690e-01,\n",
       "        1.72970276e-02, -1.24600092e-02,  3.91804166e-02, -1.51927685e-02,\n",
       "       -9.42244660e-03, -4.20137215e-03, -2.17769835e-02, -8.18582177e-02,\n",
       "        2.73602195e-02,  4.25311774e-02, -2.03626789e-02, -3.46251577e-03,\n",
       "       -3.11768521e-02,  2.92781815e-02,  3.19556482e-02, -4.34459299e-02,\n",
       "        8.89860000e-03,  5.28545566e-02,  9.23149884e-02, -2.16162764e-02,\n",
       "       -1.33102154e-02, -1.48076797e-02, -1.24316998e-02, -3.50315608e-02,\n",
       "        5.31695895e-02,  2.07380094e-02, -1.19185774e-02,  7.17210099e-02,\n",
       "       -2.57772137e-03,  3.05687580e-02,  2.01313570e-02, -1.69354361e-02,\n",
       "       -1.06968649e-01, -7.25107128e-03, -1.54300919e-02, -6.45322085e-04,\n",
       "        3.82186584e-02,  3.58711928e-02,  3.24261859e-02,  2.56100874e-02,\n",
       "        5.33036664e-02,  3.49728465e-02,  2.37788409e-02, -9.60435495e-02,\n",
       "       -1.25077711e-02,  1.39166713e-01, -2.38337144e-02,  1.76367126e-02,\n",
       "       -3.31815245e-04, -5.34384660e-02,  1.28329406e-02,  5.65365255e-02,\n",
       "       -4.42630500e-02,  1.72915384e-02, -3.63602419e-03,  6.66052243e-03,\n",
       "       -1.11832721e-02, -3.88145521e-02, -4.92331386e-03,  2.00650059e-02,\n",
       "        2.73066498e-02, -5.35459742e-02, -4.74823043e-02,  4.27259021e-02,\n",
       "        4.24337015e-02, -3.56703326e-02, -3.27643342e-02,  4.57984544e-02,\n",
       "        1.65241826e-02, -1.80753954e-02,  5.50455749e-02,  6.82053668e-03,\n",
       "        2.75579896e-02, -3.26974094e-02,  7.95519575e-02, -5.70442807e-03,\n",
       "        1.74341025e-04,  3.80692910e-03, -6.26285598e-02, -2.70999745e-02,\n",
       "        1.61065545e-04, -5.20508969e-04, -3.56900543e-02, -6.51207566e-03,\n",
       "       -3.51097025e-02,  2.15289984e-02, -4.01071385e-02, -4.75414284e-02,\n",
       "       -4.37360303e-03, -3.76819894e-02, -2.15445943e-02, -3.56965885e-02,\n",
       "       -3.47036049e-02,  5.15836850e-02,  1.31347533e-02,  2.50347778e-02,\n",
       "        5.02914377e-03, -3.50710489e-02,  4.45849486e-02, -1.70017984e-02,\n",
       "       -1.41868191e-02, -2.79174466e-02,  1.31047016e-03, -1.65593270e-02,\n",
       "        2.17183158e-02, -8.36343411e-03,  1.77875608e-02, -4.52984683e-02,\n",
       "        6.81727678e-02, -2.07133312e-02, -1.30535811e-02,  1.51122585e-02,\n",
       "        6.55917674e-02, -1.31709874e-02, -4.10171151e-02,  4.46104668e-02,\n",
       "        4.47388105e-02, -8.15696362e-03, -1.25759728e-02,  3.28765772e-02,\n",
       "       -1.32368691e-03,  5.68179693e-03,  1.80775858e-02, -3.05181950e-01,\n",
       "       -3.20216045e-02,  2.75165716e-04,  2.55006477e-02,  3.80176492e-03,\n",
       "       -5.53855067e-03,  9.14183271e-04,  1.36023080e-02, -5.21923378e-02,\n",
       "        8.57173055e-02,  3.71101759e-02,  1.68236699e-02,  4.08882573e-02,\n",
       "        9.25142840e-02,  6.29361719e-02, -1.60256941e-02, -4.54761870e-02,\n",
       "       -7.14044049e-02, -2.02956107e-02,  2.26874594e-02,  7.05556851e-03,\n",
       "        2.15866100e-02, -1.55978436e-02, -2.50229873e-02,  4.53809164e-02,\n",
       "        1.58594344e-02,  3.70489620e-02, -3.16297002e-02, -5.89486025e-02,\n",
       "       -3.84882800e-02, -3.07666361e-02,  3.08926404e-02,  1.31849218e-02,\n",
       "       -1.00272454e-01, -2.92446110e-02,  1.52795641e-02, -7.17700571e-02,\n",
       "       -4.81524505e-02, -3.57408300e-02, -2.14815773e-02, -5.86460494e-02,\n",
       "        4.91089374e-02, -2.61064731e-02,  1.02798548e-02, -1.64256990e-02,\n",
       "       -7.33431242e-03,  7.69646540e-02,  4.72665615e-02,  6.95251813e-03,\n",
       "        2.12809653e-03, -2.09987350e-02,  3.18832579e-03,  2.72832047e-02,\n",
       "       -3.33661027e-02,  1.15391128e-02, -5.82051985e-02, -2.74886824e-02,\n",
       "       -2.06858385e-02,  5.04893325e-02, -3.79040763e-02,  4.70669344e-02,\n",
       "       -2.77095810e-02,  1.92081053e-02, -7.30594024e-02,  5.65751083e-02,\n",
       "       -4.83128242e-03,  1.40387947e-02, -1.88698452e-02,  2.06834031e-03,\n",
       "        3.61422077e-03, -1.58805400e-02,  7.34519139e-02, -8.30028355e-02,\n",
       "       -6.63135648e-02,  3.35062817e-02,  6.73481682e-03,  2.83289533e-02,\n",
       "       -3.35617922e-02, -1.47696640e-02, -4.88020293e-03,  7.68621862e-02,\n",
       "       -1.96684375e-02, -2.85390709e-02,  1.74304657e-02,  6.30309246e-03,\n",
       "        4.54083644e-02,  2.98331212e-02,  2.22554374e-02, -1.66812893e-02,\n",
       "       -6.17747605e-02,  6.35691034e-03,  2.03514099e-02, -2.52675004e-02,\n",
       "       -7.11424183e-03, -2.43382417e-02,  3.64212357e-02, -2.58073419e-01,\n",
       "        2.20410991e-02,  2.93236449e-02, -3.50180604e-02,  5.26050217e-02,\n",
       "       -6.75874809e-03,  6.62357360e-02, -1.24854343e-02,  5.01990728e-02,\n",
       "        1.90004315e-02,  4.99892272e-02,  1.00116126e-01,  6.79450929e-02,\n",
       "       -2.18032263e-02, -1.61607703e-03,  4.19229129e-03,  8.74114409e-02,\n",
       "       -3.78206037e-02,  2.88441367e-02, -2.41291169e-02,  5.30456752e-02,\n",
       "       -1.12061556e-02,  1.70069560e-01, -1.21596316e-02, -4.46069874e-02,\n",
       "       -2.11336501e-02, -7.45505933e-03, -1.84422117e-02,  3.31662633e-02,\n",
       "       -2.23399997e-02,  1.54622905e-02,  4.33921814e-02,  3.19334529e-02,\n",
       "        6.96963025e-03,  4.58390415e-02, -3.67253157e-03, -3.65161486e-02,\n",
       "        2.24006940e-02, -3.03275306e-02,  3.88070829e-02, -5.10431640e-02,\n",
       "        1.59212425e-02,  1.24741243e-02,  1.93282925e-02,  4.52018976e-02,\n",
       "        1.76110119e-02, -3.36637162e-02, -1.01743549e-01,  9.36917588e-03,\n",
       "        1.63820889e-02, -3.24716792e-02, -2.47830283e-02,  2.06059907e-02,\n",
       "       -5.84163256e-02,  5.50719630e-03,  3.97230536e-02, -3.52578014e-02,\n",
       "        2.25167274e-02,  2.02333946e-02, -3.15812640e-02,  9.00448766e-03,\n",
       "        5.82188275e-03, -6.34642914e-02, -2.50776988e-02,  5.46477027e-02])"
      ]
     },
     "execution_count": 13,
     "metadata": {},
     "output_type": "execute_result"
    }
   ],
   "execution_count": 13
  },
  {
   "metadata": {
    "ExecuteTime": {
     "end_time": "2024-05-07T06:34:58.434798Z",
     "start_time": "2024-05-07T06:34:58.429510Z"
    }
   },
   "cell_type": "code",
   "source": [
    "# View the shape of the embeddings array\n",
    "print(f\"Shape of the Embeddings array: {embeddings.shape}\")"
   ],
   "id": "8a0331648a384729",
   "outputs": [
    {
     "name": "stdout",
     "output_type": "stream",
     "text": [
      "Shape of the Embeddings array: (384,)\n"
     ]
    }
   ],
   "execution_count": 16
  },
  {
   "metadata": {},
   "cell_type": "markdown",
   "source": "## Vector Store Creation",
   "id": "e0a2d5cea9f2d99d"
  },
  {
   "metadata": {
    "ExecuteTime": {
     "end_time": "2024-05-07T06:55:12.231966Z",
     "start_time": "2024-05-07T06:54:37.358208Z"
    }
   },
   "cell_type": "code",
   "source": [
    "## Vector Store Creation\n",
    "vectorstore = FAISS.from_documents(final_documents[:120], huggingface_embeddings)"
   ],
   "id": "129942bb47c59ad9",
   "outputs": [],
   "execution_count": 19
  },
  {
   "metadata": {
    "ExecuteTime": {
     "end_time": "2024-05-07T06:55:18.524032Z",
     "start_time": "2024-05-07T06:55:18.491419Z"
    }
   },
   "cell_type": "code",
   "source": [
    "# Query using Similarity Search\n",
    "query = \"WHAT IS HEALTH INSURANCE COVERAGE?\"\n",
    "relevant_documents = vectorstore.similarity_search(query)\n",
    "\n",
    "print(relevant_documents[0].page_content)"
   ],
   "id": "c89954d60257d417",
   "outputs": [
    {
     "name": "stdout",
     "output_type": "stream",
     "text": [
      "2 U.S. Census Bureau\n",
      "WHAT IS HEALTH INSURANCE COVERAGE?\n",
      "This brief presents state-level estimates of health insurance coverage \n",
      "using data from the American Community Survey (ACS). The  \n",
      "U.S. Census Bureau conducts the ACS throughout the year; the \n",
      "survey asks respondents to report their coverage at the time of \n",
      "interview. The resulting measure of health insurance coverage, \n",
      "therefore, reflects an annual average of current comprehensive \n",
      "health insurance coverage status.* This uninsured rate measures a \n",
      "different concept than the measure based on the Current Population \n",
      "Survey Annual Social and Economic Supplement (CPS ASEC). \n",
      "For reporting purposes, the ACS broadly classifies health insurance \n",
      "coverage as private insurance or public insurance. The ACS defines \n",
      "private health insurance as a plan provided through an employer \n",
      "or a union, coverage purchased directly by an individual from an \n",
      "insurance company or through an exchange (such as healthcare.\n"
     ]
    }
   ],
   "execution_count": 21
  },
  {
   "metadata": {},
   "cell_type": "markdown",
   "source": "## create Retriever ",
   "id": "4339e46f3007f552"
  },
  {
   "metadata": {
    "ExecuteTime": {
     "end_time": "2024-05-07T06:56:41.850735Z",
     "start_time": "2024-05-07T06:56:41.846115Z"
    }
   },
   "cell_type": "code",
   "source": [
    "retreiver = vectorstore.as_retriever(search_type=\"similarity\", search_kwargs={\"k\" : 3})\n",
    "print(retreiver)"
   ],
   "id": "9274a53525ba01d",
   "outputs": [
    {
     "name": "stdout",
     "output_type": "stream",
     "text": [
      "tags=['FAISS', 'HuggingFaceBgeEmbeddings'] vectorstore=<langchain_community.vectorstores.faiss.FAISS object at 0x7c7aaa5700d0> search_kwargs={'k': 3}\n"
     ]
    }
   ],
   "execution_count": 22
  },
  {
   "metadata": {},
   "cell_type": "markdown",
   "source": "",
   "id": "d8704413d7d19c94"
  },
  {
   "metadata": {},
   "cell_type": "markdown",
   "source": "## Create the model",
   "id": "7068625cb58d0958"
  },
  {
   "metadata": {
    "ExecuteTime": {
     "start_time": "2024-05-07T07:00:30.495495Z"
    }
   },
   "cell_type": "code",
   "source": [
    "from langchain_community.llms import HuggingFaceEndpoint\n",
    "\n",
    "hf=HuggingFaceEndpoint(\n",
    "    repo_id=\"mistralai/Mistral-7B-v0.1\",\n",
    "    model_kwargs={\"temperature\":0.1,\"max_length\":500}\n",
    "\n",
    ")\n",
    "query=\"What is the health insurance coverage?\"\n",
    "hf.invoke(query)"
   ],
   "id": "a3358cf20580b99a",
   "outputs": [
    {
     "name": "stderr",
     "output_type": "stream",
     "text": [
      "/home/amulyaprasanth/Documents/tutorials/Langchain Course Krishanik/venv/lib/python3.10/site-packages/langchain_core/_api/deprecation.py:119: LangChainDeprecationWarning: The class `HuggingFaceHub` was deprecated in LangChain 0.0.21 and will be removed in 0.2.0. Use HuggingFaceEndpoint instead.\n",
      "  warn_deprecated(\n"
     ]
    }
   ],
   "execution_count": null
  },
  {
   "metadata": {},
   "cell_type": "code",
   "outputs": [],
   "execution_count": null,
   "source": "",
   "id": "56ba03f08b58e98f"
  }
 ],
 "metadata": {
  "kernelspec": {
   "display_name": "Python 3",
   "language": "python",
   "name": "python3"
  },
  "language_info": {
   "codemirror_mode": {
    "name": "ipython",
    "version": 2
   },
   "file_extension": ".py",
   "mimetype": "text/x-python",
   "name": "python",
   "nbconvert_exporter": "python",
   "pygments_lexer": "ipython2",
   "version": "2.7.6"
  }
 },
 "nbformat": 4,
 "nbformat_minor": 5
}
